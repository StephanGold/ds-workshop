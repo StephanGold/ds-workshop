{
 "cells": [
  {
   "cell_type": "code",
   "execution_count": null,
   "metadata": {},
   "outputs": [],
   "source": [
    "DATA_PATH = None\n",
    "HELPER_DATA_PATH = None\n",
    "\n",
    "def load_data(user):\n",
    "    global DATA_PATH\n",
    "    global HELPER_DATA_PATH\n",
    "    \n",
    "    if user == \"matan\":\n",
    "        DATA_PATH = os.path.join('C:\\\\','Users', 'Matan', 'Desktop', 'Avito')\n",
    "        HELPER_DATA_PATH = os.path.join('C:\\\\','Users', 'Matan', 'Google Drive', 'ds-workshop', 'Avito', 'helper_data')\n",
    "    elif user == \"ilai\":\n",
    "        DATA_PATH = os.path.join('/','Users', 'ilaif', 'Desktop', 'data', 'avito')\n",
    "        HELPER_DATA_PATH = os.path.join('/', 'Users', 'ilaif', 'uni', 'ds-workshop', 'Avito', 'helper_data')\n",
    "    else:\n",
    "        raise Error(\"Error - User Not Found!\")"
   ]
  }
 ],
 "metadata": {
  "kernelspec": {
   "display_name": "Python 3",
   "language": "python",
   "name": "python3"
  },
  "language_info": {
   "codemirror_mode": {
    "name": "ipython",
    "version": 3
   },
   "file_extension": ".py",
   "mimetype": "text/x-python",
   "name": "python",
   "nbconvert_exporter": "python",
   "pygments_lexer": "ipython3",
   "version": "3.6.4"
  }
 },
 "nbformat": 4,
 "nbformat_minor": 2
}
