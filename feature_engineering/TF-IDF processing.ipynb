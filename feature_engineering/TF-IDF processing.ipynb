{
 "cells": [
  {
   "cell_type": "markdown",
   "metadata": {
    "colab_type": "text",
    "id": "owRsfxXz3NX9"
   },
   "source": [
    "# TF-IDF processing"
   ]
  },
  {
   "cell_type": "markdown",
   "metadata": {
    "colab_type": "text",
    "id": "MLSpKjcB3NYA"
   },
   "source": [
    "TF-IDF processing + PCA on those vectors"
   ]
  },
  {
   "cell_type": "code",
   "execution_count": null,
   "metadata": {
    "colab": {
     "autoexec": {
      "startup": false,
      "wait_interval": 0
     }
    },
    "colab_type": "code",
    "id": "oUx9awiA3NYK"
   },
   "outputs": [],
   "source": [
    "import numpy as np\n",
    "import pandas as pd\n",
    "import matplotlib.pyplot as plt\n",
    "from sklearn.feature_extraction.text import TfidfVectorizer, CountVectorizer\n",
    "from sklearn.decomposition import TruncatedSVD\n",
    "from sklearn import preprocessing, model_selection, metrics\n",
    "import nltk\n",
    "nltk.download('punkt')\n",
    "nltk.download('averaged_perceptron_tagger_ru')\n",
    "nltk.download('tagsets')"
   ]
  },
  {
   "cell_type": "markdown",
   "metadata": {
    "colab_type": "text",
    "id": "WRlmrX6K3NYN"
   },
   "source": [
    "Load data and stopwords"
   ]
  },
  {
   "cell_type": "code",
   "execution_count": null,
   "metadata": {
    "colab": {
     "autoexec": {
      "startup": false,
      "wait_interval": 0
     }
    },
    "colab_type": "code",
    "id": "EvLDkvdl3NYN"
   },
   "outputs": [],
   "source": [
    "train_df = pd.read_csv('train.csv')\n",
    "test_df = pd.read_csv('test.csv')\n",
    "train_df[\"description\"].fillna(\"NA\", inplace=True)\n",
    "train_df[\"title\"].fillna(\"NA\", inplace=True)\n",
    "test_df[\"description\"].fillna(\"NA\", inplace=True)\n",
    "test_df[\"title\"].fillna(\"NA\", inplace=True)"
   ]
  },
  {
   "cell_type": "code",
   "execution_count": null,
   "metadata": {
    "colab": {
     "autoexec": {
      "startup": false,
      "wait_interval": 0
     }
    },
    "colab_type": "code",
    "id": "u84oraH63NYS"
   },
   "outputs": [],
   "source": [
    "stopwords = set()\n",
    "import codecs\n",
    "with codecs.open(('stopwords_ru.txt'), encoding='cp1251') as ins:\n",
    "    for w in ins:\n",
    "        word = w.strip(\"\\r\\n\")\n",
    "        word = word.strip(\"\\n\")\n",
    "        stopwords.add(word.lower())"
   ]
  },
  {
   "cell_type": "markdown",
   "metadata": {
    "colab_type": "text",
    "id": "T50ibDfY3NYV"
   },
   "source": [
    "Define stemmer"
   ]
  },
  {
   "cell_type": "code",
   "execution_count": null,
   "metadata": {
    "colab": {
     "autoexec": {
      "startup": false,
      "wait_interval": 0
     }
    },
    "colab_type": "code",
    "id": "epPeHBiX3NYW"
   },
   "outputs": [],
   "source": [
    "from nltk.stem.snowball import SnowballStemmer\n",
    "stemmer = SnowballStemmer(\"russian\")\n",
    "\n",
    "def stem(s):\n",
    "    return stemmer.stem(s.lower())"
   ]
  },
  {
   "cell_type": "code",
   "execution_count": null,
   "metadata": {
    "colab": {
     "autoexec": {
      "startup": false,
      "wait_interval": 0
     }
    },
    "colab_type": "code",
    "id": "CWQrt8tG3NYa"
   },
   "outputs": [],
   "source": [
    "n_svd_components = 30"
   ]
  },
  {
   "cell_type": "code",
   "execution_count": null,
   "metadata": {
    "colab": {
     "autoexec": {
      "startup": false,
      "wait_interval": 0
     }
    },
    "colab_type": "code",
    "id": "fQB2ONxN3NYc"
   },
   "outputs": [],
   "source": [
    "# chunksize = 10**6\n",
    "# train_active_titles = []\n",
    "# train_active_desc = []\n",
    "# for chunk in pd.read_csv(os.path.join(DATA_PATH, 'train_active.csv'), chunksize = chunksize):\n",
    "#     chunk[\"title\"].fillna(\"NA\", inplace=True)\n",
    "#     chunk[\"description\"].fillna(\"NA\", inplace=True)\n",
    "#     train_active_titles += chunk['title'].values.tolist()\n",
    "#     train_active_desc += chunk['description'].values.tolist()"
   ]
  },
  {
   "cell_type": "code",
   "execution_count": null,
   "metadata": {
    "colab": {
     "autoexec": {
      "startup": false,
      "wait_interval": 0
     }
    },
    "colab_type": "code",
    "id": "Cr-S3cg43NYg"
   },
   "outputs": [],
   "source": [
    "# chunksize = 10**6\n",
    "# test_active_titles = []\n",
    "# test_active_desc = []\n",
    "# for chunk in pd.read_csv(os.path.join(DATA_PATH, 'test_active.csv'), chunksize = chunksize):\n",
    "#     chunk[\"title\"].fillna(\"NA\", inplace=True)\n",
    "#     chunk[\"description\"].fillna(\"NA\", inplace=True)\n",
    "#     test_active_titles += chunk['title'].values.tolist()\n",
    "#     test_active_desc += chunk['description'].values.tolist()"
   ]
  },
  {
   "cell_type": "code",
   "execution_count": null,
   "metadata": {
    "colab": {
     "autoexec": {
      "startup": false,
      "wait_interval": 0
     }
    },
    "colab_type": "code",
    "id": "-muS6guq3NYi"
   },
   "outputs": [],
   "source": [
    "def tfidf_main(train_df, test_df, col_name, n_comp):    \n",
    "    ### TFIDF Vectorizer ###\n",
    "    tfidf_vec = TfidfVectorizer(ngram_range=(1,2), preprocessor=stem, stop_words=stopwords)\n",
    "    full_tfidf = tfidf_vec.fit_transform(train_df[col_name].values.tolist() + test_df[col_name].values.tolist())\n",
    "\n",
    "    ### SVD Components ###\n",
    "    svd_obj = TruncatedSVD(n_components=n_comp, algorithm='arpack')\n",
    "    svd_obj.fit(full_tfidf)\n",
    "\n",
    "    # Train\n",
    "    train_tfidf = tfidf_vec.transform(train_df[col_name].values.tolist())\n",
    "    train_svd = pd.DataFrame(svd_obj.transform(train_tfidf))\n",
    "    train_svd.columns = ['%s_svd_%s_ngram' % (col_name, i+1) for i in range(n_comp)]\n",
    "    train_df = pd.concat([train_df, train_svd], axis=1)\n",
    "\n",
    "    # Test\n",
    "    test_tfidf = tfidf_vec.transform(test_df[col_name].values.tolist())\n",
    "    test_svd = pd.DataFrame(svd_obj.transform(test_tfidf))\n",
    "    test_svd.columns = ['%s_svd_%s_ngram' % (col_name, i+1) for i in range(n_comp)]\n",
    "    test_df = pd.concat([test_df, test_svd], axis=1)\n",
    "    \n",
    "    return train_df, test_df"
   ]
  },
  {
   "cell_type": "code",
   "execution_count": null,
   "metadata": {
    "colab": {
     "autoexec": {
      "startup": false,
      "wait_interval": 0
     }
    },
    "colab_type": "code",
    "id": "lHI1x-5S3NYl"
   },
   "outputs": [],
   "source": [
    "generated_col_names = []\n",
    "for col_name in ['title', 'description']:\n",
    "    train_df, test_df = tfidf_main(train_df, test_df, col_name, n_svd_components)\n",
    "    generated_col_names += ['%s_svd_%s_ngram' % (col_name, i+1) for i in range(n_svd_components)]"
   ]
  },
  {
   "cell_type": "code",
   "execution_count": null,
   "metadata": {
    "colab": {
     "autoexec": {
      "startup": false,
      "wait_interval": 0
     }
    },
    "colab_type": "code",
    "id": "QPHd20gR3NYn"
   },
   "outputs": [],
   "source": [
    "train_df.columns"
   ]
  },
  {
   "cell_type": "code",
   "execution_count": null,
   "metadata": {
    "colab": {
     "autoexec": {
      "startup": false,
      "wait_interval": 0
     }
    },
    "colab_type": "code",
    "id": "EUTdFAf53NYq"
   },
   "outputs": [],
   "source": [
    "train_df_save = train_df[generated_col_names]"
   ]
  },
  {
   "cell_type": "code",
   "execution_count": null,
   "metadata": {
    "colab": {
     "autoexec": {
      "startup": false,
      "wait_interval": 0
     }
    },
    "colab_type": "code",
    "id": "CoiTIMPF3NYs"
   },
   "outputs": [],
   "source": [
    "test_df_save = test_df[generated_col_names]"
   ]
  },
  {
   "cell_type": "code",
   "execution_count": null,
   "metadata": {
    "colab": {
     "autoexec": {
      "startup": false,
      "wait_interval": 0
     }
    },
    "colab_type": "code",
    "id": "K3aX6RiX3NYv"
   },
   "outputs": [],
   "source": [
    "train_df_save.to_csv(os.path.join(DATA_PATH, 'train_tfidf_uni_bi_grams_data.csv'))"
   ]
  },
  {
   "cell_type": "code",
   "execution_count": null,
   "metadata": {},
   "outputs": [],
   "source": [
    "test_df_save.to_csv(os.path.join(DATA_PATH, 'test_tfidf_uni_bi_grams_data.csv'))"
   ]
  }
 ],
 "metadata": {
  "accelerator": "GPU",
  "colab": {
   "default_view": {},
   "name": "TF-IDF processing.ipynb",
   "private_outputs": true,
   "provenance": [],
   "version": "0.3.2",
   "views": {}
  },
  "kernelspec": {
   "display_name": "Python 3",
   "language": "python",
   "name": "python3"
  },
  "language_info": {
   "codemirror_mode": {
    "name": "ipython",
    "version": 3
   },
   "file_extension": ".py",
   "mimetype": "text/x-python",
   "name": "python",
   "nbconvert_exporter": "python",
   "pygments_lexer": "ipython3",
   "version": "3.6.4"
  }
 },
 "nbformat": 4,
 "nbformat_minor": 2
}
