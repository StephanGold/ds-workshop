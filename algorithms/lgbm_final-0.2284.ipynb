{
 "cells": [
  {
   "cell_type": "markdown",
   "metadata": {},
   "source": [
    "# LGBM Final"
   ]
  },
  {
   "cell_type": "code",
   "execution_count": 19,
   "metadata": {},
   "outputs": [
    {
     "name": "stdout",
     "output_type": "stream",
     "text": [
      "The autoreload extension is already loaded. To reload it, use:\n",
      "  %reload_ext autoreload\n"
     ]
    }
   ],
   "source": [
    "%load_ext autoreload"
   ]
  },
  {
   "cell_type": "code",
   "execution_count": 20,
   "metadata": {},
   "outputs": [],
   "source": [
    "%run ../modules.ipynb"
   ]
  },
  {
   "cell_type": "code",
   "execution_count": 21,
   "metadata": {},
   "outputs": [],
   "source": [
    "init_data_paths(\"matan\")"
   ]
  },
  {
   "cell_type": "markdown",
   "metadata": {},
   "source": [
    "## Feature enrichment"
   ]
  },
  {
   "cell_type": "code",
   "execution_count": 22,
   "metadata": {},
   "outputs": [
    {
     "name": "stdout",
     "output_type": "stream",
     "text": [
      "loading data...\n"
     ]
    }
   ],
   "source": [
    "print('loading data...')\n",
    "train, test = load_data(DATA_PATH)"
   ]
  },
  {
   "cell_type": "code",
   "execution_count": 23,
   "metadata": {},
   "outputs": [
    {
     "name": "stdout",
     "output_type": "stream",
     "text": [
      "Adding basic features...\n",
      "Done adding basic features.\n",
      "Adding image features...\n"
     ]
    },
    {
     "name": "stderr",
     "output_type": "stream",
     "text": [
      "C:\\Users\\Matan\\Google Drive\\ds-workshop\\Avito\\utils\\feature_enrichment.py:75: SettingWithCopyWarning:\n",
      "\n",
      "\n",
      "A value is trying to be set on a copy of a slice from a DataFrame.\n",
      "Try using .loc[row_indexer,col_indexer] = value instead\n",
      "\n",
      "See the caveats in the documentation: http://pandas.pydata.org/pandas-docs/stable/indexing.html#indexing-view-versus-copy\n",
      "\n",
      "C:\\Users\\Matan\\Google Drive\\ds-workshop\\Avito\\utils\\feature_enrichment.py:76: SettingWithCopyWarning:\n",
      "\n",
      "\n",
      "A value is trying to be set on a copy of a slice from a DataFrame.\n",
      "Try using .loc[row_indexer,col_indexer] = value instead\n",
      "\n",
      "See the caveats in the documentation: http://pandas.pydata.org/pandas-docs/stable/indexing.html#indexing-view-versus-copy\n",
      "\n"
     ]
    },
    {
     "name": "stdout",
     "output_type": "stream",
     "text": [
      "Done loading image features.\n",
      "Loading text features...\n",
      "loading tfidf features...\n",
      "Done loading text features.\n",
      "Loading aggregated features...\n",
      "Done loading aggregated features.\n",
      "Loading aggregated features...\n",
      "Done loading aggregated features.\n",
      "Cleaning and completing numeric features...\n"
     ]
    },
    {
     "name": "stderr",
     "output_type": "stream",
     "text": [
      "C:\\Users\\Matan\\Google Drive\\ds-workshop\\Avito\\utils\\feature_enrichment.py:181: SettingWithCopyWarning:\n",
      "\n",
      "\n",
      "A value is trying to be set on a copy of a slice from a DataFrame.\n",
      "Try using .loc[row_indexer,col_indexer] = value instead\n",
      "\n",
      "See the caveats in the documentation: http://pandas.pydata.org/pandas-docs/stable/indexing.html#indexing-view-versus-copy\n",
      "\n",
      "C:\\Users\\Matan\\Google Drive\\ds-workshop\\Avito\\utils\\feature_enrichment.py:182: SettingWithCopyWarning:\n",
      "\n",
      "\n",
      "A value is trying to be set on a copy of a slice from a DataFrame.\n",
      "Try using .loc[row_indexer,col_indexer] = value instead\n",
      "\n",
      "See the caveats in the documentation: http://pandas.pydata.org/pandas-docs/stable/indexing.html#indexing-view-versus-copy\n",
      "\n"
     ]
    },
    {
     "name": "stdout",
     "output_type": "stream",
     "text": [
      "Done cleaning numeric features.\n",
      "Completing image_top_1 features...\n",
      "Done loading image_top_1 completions.\n",
      "Completing price...\n",
      "Done loading log_price_regression.\n"
     ]
    }
   ],
   "source": [
    "train, test = basic_enrichment(train, test, helper_data_path=HELPER_DATA_PATH)\n",
    "train, test = load_image_features(train, test, helper_data_path=HELPER_DATA_PATH)\n",
    "train, test = load_text_features(train, test, helper_data_path=HELPER_DATA_PATH)\n",
    "train, test = add_aggregated_features(train, test, helper_data_path=HELPER_DATA_PATH)\n",
    "train, test = numeric_features_cleaning(train, test, helper_data_path=HELPER_DATA_PATH)\n",
    "train, test = complete_image_top_1(train, test, helper_data_path=HELPER_DATA_PATH)\n",
    "train, test = complete_price(train, test, helper_data_path=HELPER_DATA_PATH)"
   ]
  },
  {
   "cell_type": "code",
   "execution_count": 25,
   "metadata": {},
   "outputs": [
    {
     "name": "stdout",
     "output_type": "stream",
     "text": [
      "Encoding user_type...\n",
      "Encoding user_id...\n",
      "Encoding region...\n",
      "Encoding city...\n",
      "Encoding parent_category_name...\n",
      "Encoding category_name...\n",
      "Encoding param_1...\n",
      "Encoding param_2...\n",
      "Encoding param_3...\n",
      "Encoding image_top_1_class...\n",
      "Encoding image_top_1_rounded_regression...\n",
      "Encoding month...\n",
      "Encoding day...\n",
      "Encoding weekday...\n",
      "Encoding has_price...\n",
      "Encoding has_description...\n",
      "Encoding has_params...\n",
      "Encoding has_image...\n"
     ]
    }
   ],
   "source": [
    "categorical_cols = ['user_type', 'user_id', \\\n",
    "                    'region', 'city', \\\n",
    "                    'parent_category_name', 'category_name', 'param_1', 'param_2', 'param_3', \\\n",
    "                    'image_top_1_class', 'image_top_1_rounded_regression', \\\n",
    "                    'month', 'day', 'weekday', \\\n",
    "                    'has_price', 'has_description', 'has_params', 'has_image'\n",
    "                   ]\n",
    "import gc\n",
    "gc.collect()\n",
    "for col in categorical_cols:\n",
    "    print (\"Encoding \"+ str(col) + \"...\")\n",
    "    train[col] = train[col].astype('category')\n",
    "    test[col] = test[col].astype('category')\n",
    "    lbl = preprocessing.LabelEncoder()\n",
    "    lbl.fit(list(train[col].values.astype('str')) + list(test[col].values.astype('str')))\n",
    "    train[col] = lbl.transform(list(train[col].values.astype('str')))\n",
    "    test[col] = lbl.transform(list(test[col].values.astype('str')))"
   ]
  },
  {
   "cell_type": "code",
   "execution_count": null,
   "metadata": {},
   "outputs": [],
   "source": [
    "for col in ['description', 'title']:\n",
    "    train['num_words_' + col] = train[col].apply(lambda comment: len(comment.split()))\n",
    "    train['num_unique_words_' + col] = train[col].apply(lambda comment: len(set(w for w in comment.split())))\n",
    "\n",
    "train['words_vs_unique_title'] = train['num_unique_words_title'] / train['num_words_title'] * 100\n",
    "train['words_vs_unique_description'] = train['num_unique_words_description'] / train['num_words_description'] * 100\n",
    "\n",
    "train['city'] = train['region'] + '_' + train['city']\n",
    "train['num_desc_punct'] = train['description'].apply(lambda x: count(x, set(string.punctuation)))\n"
   ]
  },
  {
   "cell_type": "code",
   "execution_count": 85,
   "metadata": {},
   "outputs": [],
   "source": [
    "categorical_cols = ['user_type', 'user_id', \\\n",
    "                    'region', 'city', \\\n",
    "                    'parent_category_name', 'category_name', 'param_1', 'param_2', 'param_3', \\\n",
    "                    'image_top_1_class', \\\n",
    "                    # 'image_top_1_rounded_regression'\n",
    "                    #'month', 'day', 'weekday', \\\n",
    "                    #'has_price', 'has_description', 'has_params', 'has_image',\n",
    "                   ]\n",
    "numerical_cols = [ #'image_top_1_regression',\n",
    "                  'log_price_regression','avg_days_up_user', 'avg_times_up_user', 'n_user_items', \\\n",
    "                      'item_seq_number',\\\n",
    "                    # 'param_1_count', 'param_2_count', 'param_3_count', 'item_seq_number_count',\n",
    "                     #'log_item_seq_number', 'item_seq_number_count', \\\n",
    "                     'img_size', 'img_luminance', 'img_colorfulness', 'img_confidence', 'log_img_sharpness', 'log_img_keypoints', \\\n",
    "                     'title_word_count', 'description_word_count', 'merged_params_word_count', \\\n",
    "                     'num_desc_punct', 'num_unique_words_decription', 'num_unique_words_title',\\  \n",
    "                     #'description_non_regular_chars_ratio', 'title_capital_letters_ratio','description_capital_letters_ratio', \\\n",
    "                     #'title_non_regular_chars_ratio', 'title_adj_to_len_ratio', 'title_noun_to_len_ratio',\\\n",
    "                     #'title_sentiment',\n",
    "                     'title_svd_1_ngram',\n",
    "                     'title_svd_2_ngram',\n",
    "                     'title_svd_3_ngram',\n",
    "                     'title_svd_4_ngram',\n",
    "                     'title_svd_5_ngram',\n",
    "                     'title_svd_6_ngram',\n",
    "                     'title_svd_7_ngram',\n",
    "                     'title_svd_8_ngram',\n",
    "                     'title_svd_9_ngram',\n",
    "                     'title_svd_10_ngram',\n",
    "                     'title_svd_11_ngram',\n",
    "                     'title_svd_12_ngram',\n",
    "                     'title_svd_13_ngram',\n",
    "                     'title_svd_14_ngram',\n",
    "                     'title_svd_15_ngram',\n",
    "                     'title_svd_16_ngram',\n",
    "                     'title_svd_17_ngram',\n",
    "                     'title_svd_18_ngram',\n",
    "                     'title_svd_19_ngram',\n",
    "                     'title_svd_20_ngram',\n",
    "                     'title_svd_21_ngram',\n",
    "                     'title_svd_22_ngram',\n",
    "                     'title_svd_23_ngram',\n",
    "                     'title_svd_24_ngram',\n",
    "                     'title_svd_25_ngram',\n",
    "                     'title_svd_26_ngram',\n",
    "                     'title_svd_27_ngram',\n",
    "                     'title_svd_28_ngram',\n",
    "                     'title_svd_29_ngram',\n",
    "                     'title_svd_30_ngram',\n",
    "                     'description_svd_1_ngram',\n",
    "                     'description_svd_2_ngram',\n",
    "                     'description_svd_3_ngram',\n",
    "                     'description_svd_4_ngram',\n",
    "                     'description_svd_5_ngram',\n",
    "                     'description_svd_6_ngram',\n",
    "                     'description_svd_7_ngram',\n",
    "                     'description_svd_8_ngram',\n",
    "                     'description_svd_9_ngram',\n",
    "                     'description_svd_10_ngram',\n",
    "                     'description_svd_11_ngram',\n",
    "                     'description_svd_12_ngram',\n",
    "                     'description_svd_13_ngram',\n",
    "                     'description_svd_14_ngram',\n",
    "                     'description_svd_15_ngram',\n",
    "                     'description_svd_16_ngram',\n",
    "                     'description_svd_17_ngram',\n",
    "                     'description_svd_18_ngram',\n",
    "                     'description_svd_19_ngram',\n",
    "                     'description_svd_20_ngram',\n",
    "                     'description_svd_21_ngram',\n",
    "                     'description_svd_22_ngram',\n",
    "                     'description_svd_23_ngram',\n",
    "                     'description_svd_24_ngram',\n",
    "                     'description_svd_25_ngram',\n",
    "                     'description_svd_26_ngram',\n",
    "                     'description_svd_27_ngram',\n",
    "                     'description_svd_28_ngram',\n",
    "                     'description_svd_29_ngram',\n",
    "                     'description_svd_30_ngram', \n",
    "                 ]\n",
    "\n",
    "feature_list = categorical_cols + numerical_cols + ['item_id']\n",
    "\n",
    "def categorical_indices(df, categorical_cols):\n",
    "    return [i for i, col in enumerate(df.columns) if col in categorical_cols]"
   ]
  },
  {
   "cell_type": "markdown",
   "metadata": {},
   "source": [
    "#### Encoding Labels"
   ]
  },
  {
   "cell_type": "code",
   "execution_count": 86,
   "metadata": {},
   "outputs": [],
   "source": [
    "# import gc\n",
    "# gc.collect()\n",
    "# for col in categorical_cols:\n",
    "#     print (\"Encoding \"+ str(col) + \"...\")\n",
    "#     train[col] = train[col].astype('category')\n",
    "#     test[col] = test[col].astype('category')\n",
    "#     lbl = preprocessing.LabelEncoder()\n",
    "#     lbl.fit(list(train[col].values.astype('str')) + list(test[col].values.astype('str')))\n",
    "#     train[col] = lbl.transform(list(train[col].values.astype('str')))\n",
    "#     test[col] = lbl.transform(list(test[col].values.astype('str')))"
   ]
  },
  {
   "cell_type": "code",
   "execution_count": 87,
   "metadata": {},
   "outputs": [
    {
     "data": {
      "text/plain": [
       "['item_id',\n",
       " 'user_id',\n",
       " 'region',\n",
       " 'city',\n",
       " 'parent_category_name',\n",
       " 'category_name',\n",
       " 'param_1',\n",
       " 'param_2',\n",
       " 'param_3',\n",
       " 'title',\n",
       " 'description',\n",
       " 'price',\n",
       " 'item_seq_number',\n",
       " 'activation_date',\n",
       " 'user_type',\n",
       " 'image',\n",
       " 'image_top_1',\n",
       " 'deal_probability',\n",
       " 'has_description',\n",
       " 'has_price',\n",
       " 'has_params',\n",
       " 'has_image',\n",
       " 'month',\n",
       " 'day',\n",
       " 'weekday',\n",
       " 'user_ads_count',\n",
       " 'item_seq_number_count',\n",
       " 'param_1_count',\n",
       " 'param_2_count',\n",
       " 'param_3_count',\n",
       " 'title_description_params',\n",
       " 'img_size',\n",
       " 'img_sharpness',\n",
       " 'img_luminance',\n",
       " 'img_colorfulness',\n",
       " 'img_confidence',\n",
       " 'img_keypoints',\n",
       " 'log_img_sharpness',\n",
       " 'log_img_keypoints',\n",
       " 'title_word_count',\n",
       " 'description_non_regular_chars_ratio',\n",
       " 'description_word_count',\n",
       " 'merged_params_word_count',\n",
       " 'description_sentence_count',\n",
       " 'description_words/sentence_ratio',\n",
       " 'title_capital_letters_ratio',\n",
       " 'description_capital_letters_ratio',\n",
       " 'title_non_regular_chars_ratio',\n",
       " 'title_num_of_newrow_char',\n",
       " 'description_num_of_newrow_char',\n",
       " 'title_num_adj',\n",
       " 'title_num_nouns',\n",
       " 'title_adj_to_len_ratio',\n",
       " 'title_noun_to_len_ratio',\n",
       " 'description_num_adj',\n",
       " 'description_num_nouns',\n",
       " 'description_adj_to_len_ratio',\n",
       " 'description_noun_to_len_ratio',\n",
       " 'title_first_noun_stemmed',\n",
       " 'title_second_noun_stemmed',\n",
       " 'title_third_noun_stemmed',\n",
       " 'description_first_noun_stemmed',\n",
       " 'description_second_noun_stemmed',\n",
       " 'description_third_noun_stemmed',\n",
       " 'title_first_adj_stemmed',\n",
       " 'title_second_adj_stemmed',\n",
       " 'title_third_adj_stemmed',\n",
       " 'description_first_adj_stemmed',\n",
       " 'description_second_adj_stemmed',\n",
       " 'description_third_adj_stemmed',\n",
       " 'title_sentiment',\n",
       " 'description_sentiment',\n",
       " 'title_svd_1_ngram',\n",
       " 'title_svd_2_ngram',\n",
       " 'title_svd_3_ngram',\n",
       " 'title_svd_4_ngram',\n",
       " 'title_svd_5_ngram',\n",
       " 'title_svd_6_ngram',\n",
       " 'title_svd_7_ngram',\n",
       " 'title_svd_8_ngram',\n",
       " 'title_svd_9_ngram',\n",
       " 'title_svd_10_ngram',\n",
       " 'title_svd_11_ngram',\n",
       " 'title_svd_12_ngram',\n",
       " 'title_svd_13_ngram',\n",
       " 'title_svd_14_ngram',\n",
       " 'title_svd_15_ngram',\n",
       " 'title_svd_16_ngram',\n",
       " 'title_svd_17_ngram',\n",
       " 'title_svd_18_ngram',\n",
       " 'title_svd_19_ngram',\n",
       " 'title_svd_20_ngram',\n",
       " 'title_svd_21_ngram',\n",
       " 'title_svd_22_ngram',\n",
       " 'title_svd_23_ngram',\n",
       " 'title_svd_24_ngram',\n",
       " 'title_svd_25_ngram',\n",
       " 'title_svd_26_ngram',\n",
       " 'title_svd_27_ngram',\n",
       " 'title_svd_28_ngram',\n",
       " 'title_svd_29_ngram',\n",
       " 'title_svd_30_ngram',\n",
       " 'description_svd_1_ngram',\n",
       " 'description_svd_2_ngram',\n",
       " 'description_svd_3_ngram',\n",
       " 'description_svd_4_ngram',\n",
       " 'description_svd_5_ngram',\n",
       " 'description_svd_6_ngram',\n",
       " 'description_svd_7_ngram',\n",
       " 'description_svd_8_ngram',\n",
       " 'description_svd_9_ngram',\n",
       " 'description_svd_10_ngram',\n",
       " 'description_svd_11_ngram',\n",
       " 'description_svd_12_ngram',\n",
       " 'description_svd_13_ngram',\n",
       " 'description_svd_14_ngram',\n",
       " 'description_svd_15_ngram',\n",
       " 'description_svd_16_ngram',\n",
       " 'description_svd_17_ngram',\n",
       " 'description_svd_18_ngram',\n",
       " 'description_svd_19_ngram',\n",
       " 'description_svd_20_ngram',\n",
       " 'description_svd_21_ngram',\n",
       " 'description_svd_22_ngram',\n",
       " 'description_svd_23_ngram',\n",
       " 'description_svd_24_ngram',\n",
       " 'description_svd_25_ngram',\n",
       " 'description_svd_26_ngram',\n",
       " 'description_svd_27_ngram',\n",
       " 'description_svd_28_ngram',\n",
       " 'description_svd_29_ngram',\n",
       " 'description_svd_30_ngram',\n",
       " 'avg_days_up_user',\n",
       " 'avg_times_up_user',\n",
       " 'n_user_items',\n",
       " 'log_item_seq_number',\n",
       " 'log_price',\n",
       " 'log_description_word_count',\n",
       " 'image_top_1_class',\n",
       " 'image_top_1_regression',\n",
       " 'image_top_1_rounded_regression',\n",
       " 'log_price_regression']"
      ]
     },
     "execution_count": 87,
     "metadata": {},
     "output_type": "execute_result"
    }
   ],
   "source": [
    "list(train.columns)"
   ]
  },
  {
   "cell_type": "markdown",
   "metadata": {},
   "source": [
    "#### Splitting data"
   ]
  },
  {
   "cell_type": "code",
   "execution_count": 88,
   "metadata": {},
   "outputs": [],
   "source": [
    "X_df = train[feature_list].fillna(0)\n",
    "y_df = train['deal_probability'].values"
   ]
  },
  {
   "cell_type": "code",
   "execution_count": 89,
   "metadata": {},
   "outputs": [],
   "source": [
    "X_test_df = test[feature_list].fillna(0)\n",
    "X_train_df, X_val_df, y_train_df, y_val_df = train_test_split(X_df, y_df, test_size=0.2, random_state=42)"
   ]
  },
  {
   "cell_type": "code",
   "execution_count": 90,
   "metadata": {},
   "outputs": [],
   "source": [
    "X_train_item_id = X_train_df[['item_id']]\n",
    "X_test_item_id = X_test_df[['item_id']]\n",
    "X_val_item_id = X_val_df[['item_id']]\n",
    "del X_train_df['item_id']\n",
    "del X_test_df['item_id']\n",
    "del X_val_df['item_id']"
   ]
  },
  {
   "cell_type": "markdown",
   "metadata": {},
   "source": [
    "# LightGBM"
   ]
  },
  {
   "cell_type": "markdown",
   "metadata": {},
   "source": [
    "* https://github.com/Microsoft/LightGBM/tree/master/examples/python-guide\n",
    "* https://medium.com/@pushkarmandot/https-medium-com-pushkarmandot-what-is-lightgbm-how-to-implement-it-how-to-fine-tune-the-parameters-60347819b7fc"
   ]
  },
  {
   "cell_type": "markdown",
   "metadata": {},
   "source": [
    "We try both regression and poisson objectives in the ensemble model, so we train both."
   ]
  },
  {
   "cell_type": "code",
   "execution_count": 91,
   "metadata": {},
   "outputs": [],
   "source": [
    "objective = 'regression'"
   ]
  },
  {
   "cell_type": "code",
   "execution_count": null,
   "metadata": {},
   "outputs": [
    {
     "name": "stderr",
     "output_type": "stream",
     "text": [
      "C:\\Users\\Matan\\Anaconda3\\lib\\site-packages\\lightgbm\\basic.py:1038: UserWarning:\n",
      "\n",
      "categorical_feature in Dataset is overridden. New categorical_feature is [0, 1, 2, 3, 4, 5, 6, 7, 8, 9]\n",
      "\n",
      "C:\\Users\\Matan\\Anaconda3\\lib\\site-packages\\lightgbm\\basic.py:681: UserWarning:\n",
      "\n",
      "categorical_feature in param dict is overridden.\n",
      "\n"
     ]
    },
    {
     "name": "stdout",
     "output_type": "stream",
     "text": [
      "Training until validation scores don't improve for 200 rounds.\n"
     ]
    }
   ],
   "source": [
    "categorical_features_idx = categorical_indices(X_df, categorical_cols)\n",
    "lgb_train = lgb.Dataset(X_train_df, label=y_train_df)\n",
    "lgb_val = lgb.Dataset(X_val_df, y_val_df, reference=lgb_train)\n",
    "\n",
    "params = {\n",
    "    'task': 'train',\n",
    "    'boosting_type': 'gbdt',\n",
    "    'objective': objective,\n",
    "    'metric': 'rmse',\n",
    "    'max_depth': 15,\n",
    "    'num_leaves': 256,\n",
    "    'num_estimators':38,\n",
    "    'feature_fraction': 0.6,\n",
    "    'learning_rate': 0.02,\n",
    "    'ransom_state':[501],\n",
    "    'verbose': 1\n",
    "}\n",
    "\n",
    "def train_lgb(my_params, my_lgb_train, my_lgb_val):\n",
    "    evals_result = {}\n",
    "    clf = lgb.train(my_params, \n",
    "                    my_lgb_train, \n",
    "                    num_boost_round=2000,\n",
    "                    valid_sets=[my_lgb_train, my_lgb_val],\n",
    "                    early_stopping_rounds=200,\n",
    "                    feature_name=feature_list[:-1],\n",
    "                    categorical_feature=categorical_features_idx,\n",
    "                    evals_result=evals_result,\n",
    "                    verbose_eval=200)\n",
    "    return clf, evals_result\n",
    "\n",
    "clf, evals_result = train_lgb(params, lgb_train, lgb_val)"
   ]
  },
  {
   "cell_type": "code",
   "execution_count": null,
   "metadata": {},
   "outputs": [],
   "source": [
    "def test_lgb(clf, X_test, y_test):\n",
    "    y_pred = clf.predict(X_test, num_iteration= clf.best_iteration)\n",
    "    y_pred = np.clip(y_pred, 0, 1)\n",
    "    res = rmse(y_pred, y_test)\n",
    "    print(res)\n",
    "    return res\n",
    "gc.collect()\n",
    "results = {}\n",
    "results['lgbm'] = { 'rmse': test_lgb(clf, X_val_df, y_val_df) }"
   ]
  },
  {
   "cell_type": "markdown",
   "metadata": {},
   "source": [
    "### Analyzing results"
   ]
  },
  {
   "cell_type": "code",
   "execution_count": 125,
   "metadata": {},
   "outputs": [
    {
     "name": "stdout",
     "output_type": "stream",
     "text": [
      "Plot metrics during training...\n"
     ]
    },
    {
     "data": {
      "image/png": "[encoded data removed]",
      "text/plain": [
       "<matplotlib.figure.Figure at 0x239c302f470>"
      ]
     },
     "metadata": {},
     "output_type": "display_data"
    },
    {
     "name": "stdout",
     "output_type": "stream",
     "text": [
      "Plot feature importances...\n"
     ]
    },
    {
     "data": {
      "image/png": "[encoded data removed]",
      "text/plain": [
       "<matplotlib.figure.Figure at 0x238621b2898>"
      ]
     },
     "metadata": {},
     "output_type": "display_data"
    }
   ],
   "source": [
    "def analyze_lgbm_result():\n",
    "    print('Plot metrics during training...')\n",
    "    ax = lgb.plot_metric(evals_result, metric='rmse')\n",
    "    plt.title(\"Light GBM Metrics\")\n",
    "    plt.show()\n",
    "\n",
    "    print('Plot feature importances...')\n",
    "    fig, ax = plt.subplots(figsize=(10, 14))\n",
    "    lgb.plot_importance(clf, max_num_features=80, ax=ax)\n",
    "    plt.title(\"Light GBM Feature Importance\")\n",
    "    plt.show()\n",
    "\n",
    "#     print('Plot 84th tree...')  # one tree use categorical feature to split\n",
    "#     ax = lgb.plot_tree(clf, tree_index=83, figsize=(20, 8), show_info=['split_gain'])\n",
    "#     plt.show()\n",
    "\n",
    "#     print('Plot 84th tree with graphviz...')\n",
    "# #     graph = lgb.create_tree_digraph(clf, tree_index=83, name='Tree84')\n",
    "# #     graph.render(view=True)\n",
    "    \n",
    "analyze_lgbm_result()"
   ]
  },
  {
   "cell_type": "markdown",
   "metadata": {},
   "source": [
    "### 10-Fold Cross Validation"
   ]
  },
  {
   "cell_type": "markdown",
   "metadata": {},
   "source": [
    "Pretty useless since the kaggle results give us the best \"cross-validation\" results"
   ]
  },
  {
   "cell_type": "code",
   "execution_count": 126,
   "metadata": {},
   "outputs": [],
   "source": [
    "# categorical_features_idx = categorical_indices(X_df, categorical_cols)\n",
    "\n",
    "# lgb_train = lgb.Dataset(X_df, label=y_df)\n",
    "\n",
    "# params = {\n",
    "#     'task': 'train',\n",
    "#     'boosting_type': 'gbdt',\n",
    "#     'objective': 'regression',\n",
    "#     'metric': 'rmse',\n",
    "#     'max_depth': 15,\n",
    "#     'num_leaves': 32,\n",
    "#     'feature_fraction': 0.6,\n",
    "# #     'bagging_fraction': 0.75,\n",
    "# #     'bagging_freq': 2,\n",
    "#     'learning_rate': 0.05,\n",
    "#     'verbose': 1\n",
    "# }\n",
    "\n",
    "\n",
    "# def train_cv(my_params, my_lgb_train):\n",
    "#     print(\"Starting cross validation\")\n",
    "#     lgb.cv(my_params, \n",
    "#             my_lgb_train,\n",
    "#             stratified = False,\n",
    "#             nfold=10,\n",
    "#             init_model=clf,\n",
    "#             num_boost_round=200,\n",
    "#             feature_name=feature_list,\n",
    "#             categorical_feature=categorical_features_idx,\n",
    "#             verbose_eval=50)\n",
    "\n",
    "# train_cv(params, lgb_train)"
   ]
  },
  {
   "cell_type": "markdown",
   "metadata": {},
   "source": [
    "### Get Submission Result"
   ]
  },
  {
   "cell_type": "code",
   "execution_count": 127,
   "metadata": {},
   "outputs": [],
   "source": [
    "y_pred = clf.predict(X_test_df)\n",
    "y_pred = np.clip(y_pred, 0, 1)"
   ]
  },
  {
   "cell_type": "code",
   "execution_count": 128,
   "metadata": {},
   "outputs": [],
   "source": [
    "res_df = pd.DataFrame(test['item_id'])\n",
    "res_df['deal_probability'] = y_pred"
   ]
  },
  {
   "cell_type": "code",
   "execution_count": 129,
   "metadata": {},
   "outputs": [],
   "source": [
    "res_df.to_csv('../submissions/submit_res_lgbm_%s_8.csv.gz' % objective, index=None, compression='gzip')"
   ]
  },
  {
   "cell_type": "markdown",
   "metadata": {},
   "source": [
    "### Get predictions on all data to unify with an ensemble model"
   ]
  },
  {
   "cell_type": "code",
   "execution_count": 80,
   "metadata": {},
   "outputs": [],
   "source": [
    "y_train_pred = clf.predict(X_train_df)\n",
    "res_train_df = pd.DataFrame(X_train_item_id['item_id'])\n",
    "res_train_df['deal_probability'] = y_train_pred"
   ]
  },
  {
   "cell_type": "code",
   "execution_count": 81,
   "metadata": {},
   "outputs": [],
   "source": [
    "y_val_pred = clf.predict(X_val_df)\n",
    "res_val_df = pd.DataFrame(X_val_item_id['item_id'])\n",
    "res_val_df['deal_probability'] = y_val_pred"
   ]
  },
  {
   "cell_type": "code",
   "execution_count": 82,
   "metadata": {},
   "outputs": [],
   "source": [
    "y_test_pred = clf.predict(X_test_df)\n",
    "res_test_df = pd.DataFrame(X_test_item_id['item_id'])\n",
    "res_test_df['deal_probability'] = y_test_pred"
   ]
  },
  {
   "cell_type": "code",
   "execution_count": 83,
   "metadata": {},
   "outputs": [],
   "source": [
    "res = pd.concat([res_train_df, res_val_df, res_test_df], axis=0)"
   ]
  },
  {
   "cell_type": "code",
   "execution_count": 84,
   "metadata": {},
   "outputs": [],
   "source": [
    "res.to_csv('../all_data_lgbm_%s_results_0.2295.csv.gz' % objective, index=None, compression='gzip')"
   ]
  },
  {
   "cell_type": "code",
   "execution_count": null,
   "metadata": {},
   "outputs": [],
   "source": [
    "gc.collect()"
   ]
  },
  {
   "cell_type": "markdown",
   "metadata": {},
   "source": [
    "## Prediction Analysis"
   ]
  },
  {
   "cell_type": "code",
   "execution_count": null,
   "metadata": {},
   "outputs": [],
   "source": [
    "y_pred = clf.predict(X_val_df)"
   ]
  },
  {
   "cell_type": "code",
   "execution_count": null,
   "metadata": {},
   "outputs": [],
   "source": [
    "y_pred = np.clip(y_pred, 0, 1)\n",
    "X_val_df['pred_dp'] = y_pred\n",
    "X_val_df['real_dp'] = y_val_df\n",
    "X_val_df['mistake'] = np.abs(y_val_df - y_pred)\n",
    "bad_df = X_val_df.sort_values(by='mistake', ascending=False).iloc[:25000]\n",
    "good_df = X_val_df.sort_values(by='mistake', ascending=True).iloc[:25000]"
   ]
  },
  {
   "cell_type": "markdown",
   "metadata": {},
   "source": [
    "We might wish to predict high price and low price seperately"
   ]
  },
  {
   "cell_type": "code",
   "execution_count": null,
   "metadata": {},
   "outputs": [],
   "source": [
    "user_type_dist = good_df.groupby('user_type').size()\n",
    "explode = (0.15, 0, 0)\n",
    "colors = ['#ff9999','#66b3ff','#99ff99','#ffcc99']\n",
    "labels = user_type_dist.index\n",
    "fig1, ax1 = plt.subplots()\n",
    "ax1.pie(user_type_dist, explode=explode, labels=labels, colors=colors, autopct='%1.1f%%', shadow=True, startangle=90)\n",
    "ax1.axis('equal')\n",
    "plt.tight_layout()\n",
    "plt.title('User types by percentage Good')\n",
    "plt.show()"
   ]
  },
  {
   "cell_type": "code",
   "execution_count": null,
   "metadata": {},
   "outputs": [],
   "source": [
    "user_type_dist = bad_df.groupby('user_type').size()\n",
    "explode = (0.15, 0, 0)\n",
    "colors = ['#ff9999','#66b3ff','#99ff99','#ffcc99']\n",
    "labels = user_type_dist.index\n",
    "fig1, ax1 = plt.subplots()\n",
    "ax1.pie(user_type_dist, explode=explode, labels=labels, colors=colors, autopct='%1.1f%%', shadow=True, startangle=90)\n",
    "ax1.axis('equal')\n",
    "plt.tight_layout()\n",
    "plt.title('User types by percentage Bad')\n",
    "plt.show()"
   ]
  },
  {
   "cell_type": "code",
   "execution_count": null,
   "metadata": {},
   "outputs": [],
   "source": [
    "user_type_dist = X_df.groupby('user_type').size()\n",
    "explode = (0.15, 0, 0)\n",
    "colors = ['#ff9999','#66b3ff','#99ff99','#ffcc99']\n",
    "labels = user_type_dist.index\n",
    "fig1, ax1 = plt.subplots()\n",
    "ax1.pie(user_type_dist, explode=explode, labels=labels, colors=colors, autopct='%1.1f%%', shadow=True, startangle=90)\n",
    "ax1.axis('equal')\n",
    "plt.tight_layout()\n",
    "plt.title('User types by percentage')\n",
    "plt.show()"
   ]
  },
  {
   "cell_type": "markdown",
   "metadata": {},
   "source": [
    "We can see that we have higher success rate on the smaller classes of user types"
   ]
  },
  {
   "cell_type": "code",
   "execution_count": null,
   "metadata": {},
   "outputs": [],
   "source": [
    "category_counts = good_df.groupby('category_name').size().sort_values(ascending=False)\n",
    "plt.xticks(rotation=90)\n",
    "plt.bar(category_counts.index, category_counts.values)\n",
    "plt.title('Number of items per category Good')\n",
    "plt.show()\n",
    "category_counts = good_df.groupby('parent_category_name').size().sort_values(ascending=False)\n",
    "plt.xticks(rotation=90)\n",
    "plt.bar(category_counts.index, category_counts.values)\n",
    "plt.title('Number of items per parent category Good')\n",
    "plt.show()\n",
    "\n",
    "parent_category_dist = good_df.groupby('parent_category_name').size()\n",
    "colors = ['#ff9999','#66b3ff','#99ff99','#ffcc99']\n",
    "labels = parent_category_dist.index\n",
    "fig1, ax1 = plt.subplots()\n",
    "ax1.pie(parent_category_dist, labels=labels, colors=colors, autopct='%1.1f%%', shadow=True, startangle=90)\n",
    "ax1.axis('equal')\n",
    "plt.tight_layout()\n",
    "plt.title('Parent categories by percentage Good')\n",
    "plt.show()"
   ]
  },
  {
   "cell_type": "code",
   "execution_count": null,
   "metadata": {},
   "outputs": [],
   "source": [
    "category_counts = bad_df.groupby('category_name').size().sort_values(ascending=False)\n",
    "plt.xticks(rotation=90)\n",
    "plt.bar(category_counts.index, category_counts.values)\n",
    "plt.title('Number of items per category Bad')\n",
    "plt.show()\n",
    "category_counts = bad_df.groupby('parent_category_name').size().sort_values(ascending=False)\n",
    "plt.xticks(rotation=90)\n",
    "plt.bar(category_counts.index, category_counts.values)\n",
    "plt.title('Number of items per parent category Bad')\n",
    "plt.show()\n",
    "\n",
    "parent_category_dist = bad_df.groupby('parent_category_name').size()\n",
    "colors = ['#ff9999','#66b3ff','#99ff99','#ffcc99']\n",
    "labels = parent_category_dist.index\n",
    "fig1, ax1 = plt.subplots()\n",
    "ax1.pie(parent_category_dist, labels=labels, colors=colors, autopct='%1.1f%%', shadow=True, startangle=90)\n",
    "ax1.axis('equal')\n",
    "plt.tight_layout()\n",
    "plt.title('Parent categories by percentage Bad')\n",
    "plt.show()"
   ]
  },
  {
   "cell_type": "code",
   "execution_count": null,
   "metadata": {},
   "outputs": [],
   "source": [
    "category_counts = X_df.groupby('category_name').size().sort_values(ascending=False)\n",
    "plt.xticks(rotation=90)\n",
    "plt.bar(category_counts.index, category_counts.values)\n",
    "plt.title('Number of items per category')\n",
    "plt.show()\n",
    "category_counts = X_df.groupby('parent_category_name').size().sort_values(ascending=False)\n",
    "plt.xticks(rotation=90)\n",
    "plt.bar(category_counts.index, category_counts.values)\n",
    "plt.title('Number of items per parent category')\n",
    "plt.show()\n",
    "\n",
    "parent_category_dist = X_df.groupby('parent_category_name').size()\n",
    "colors = ['#ff9999','#66b3ff','#99ff99','#ffcc99']\n",
    "labels = parent_category_dist.index\n",
    "fig1, ax1 = plt.subplots()\n",
    "ax1.pie(parent_category_dist, labels=labels, colors=colors, autopct='%1.1f%%', shadow=True, startangle=90)\n",
    "ax1.axis('equal')\n",
    "plt.tight_layout()\n",
    "plt.title('Parent categories by percentage')\n",
    "plt.show()"
   ]
  },
  {
   "cell_type": "markdown",
   "metadata": {},
   "source": [
    "We don't predict well categories 0,2"
   ]
  },
  {
   "cell_type": "code",
   "execution_count": null,
   "metadata": {},
   "outputs": [],
   "source": [
    "region_counts = good_df.groupby('region').size().sort_values(ascending=False)\n",
    "plt.xticks(rotation=90)\n",
    "plt.bar(region_counts.index, region_counts.values)\n",
    "plt.title('Number of items per region Good')\n",
    "plt.show()\n",
    "city_counts = good_df.groupby('city').size().sort_values(ascending=False)\n",
    "plt.xticks(rotation=90)\n",
    "plt.bar(city_counts.index, city_counts.values)\n",
    "plt.title('Number of items per city Good')\n",
    "plt.show()"
   ]
  },
  {
   "cell_type": "code",
   "execution_count": null,
   "metadata": {},
   "outputs": [],
   "source": [
    "region_counts = bad_df.groupby('region').size().sort_values(ascending=False)\n",
    "plt.xticks(rotation=90)\n",
    "plt.bar(region_counts.index, region_counts.values)\n",
    "plt.title('Number of items per region Bad')\n",
    "plt.show()\n",
    "city_counts = bad_df.groupby('city').size().sort_values(ascending=False)\n",
    "plt.xticks(rotation=90)\n",
    "plt.bar(city_counts.index, city_counts.values)\n",
    "plt.title('Number of items per city Bad')\n",
    "plt.show()"
   ]
  },
  {
   "cell_type": "code",
   "execution_count": null,
   "metadata": {},
   "outputs": [],
   "source": [
    "region_counts = X_df.groupby('region').size().sort_values(ascending=False)\n",
    "plt.xticks(rotation=90)\n",
    "plt.bar(region_counts.index, region_counts.values)\n",
    "plt.title('Number of items per region')\n",
    "plt.show()\n",
    "city_counts = X_df.groupby('city').size().sort_values(ascending=False)\n",
    "plt.xticks(rotation=90)\n",
    "plt.bar(city_counts.index, city_counts.values)\n",
    "plt.title('Number of items per city')\n",
    "plt.show()"
   ]
  },
  {
   "cell_type": "code",
   "execution_count": null,
   "metadata": {},
   "outputs": [],
   "source": [
    "weekday_counts = good_df.groupby('day').size().sort_values(ascending=False)\n",
    "plt.xticks(rotation=45)\n",
    "plt.bar(weekday_counts.index, weekday_counts.values)\n",
    "plt.title('Number of items per weekday Good')\n",
    "plt.show()"
   ]
  },
  {
   "cell_type": "code",
   "execution_count": null,
   "metadata": {},
   "outputs": [],
   "source": [
    "weekday_counts = bad_df.groupby('day').size().sort_values(ascending=False)\n",
    "plt.xticks(rotation=45)\n",
    "plt.bar(weekday_counts.index, weekday_counts.values)\n",
    "plt.title('Number of items per weekday Bad')\n",
    "plt.show()"
   ]
  },
  {
   "cell_type": "code",
   "execution_count": null,
   "metadata": {},
   "outputs": [],
   "source": [
    "weekday_counts = X_df.groupby('day').size().sort_values(ascending=False)\n",
    "plt.xticks(rotation=45)\n",
    "plt.bar(weekday_counts.index, weekday_counts.values)\n",
    "plt.title('Number of items per weekday')\n",
    "plt.show()"
   ]
  }
 ],
 "metadata": {
  "kernelspec": {
   "display_name": "Python 3",
   "language": "python",
   "name": "python3"
  },
  "language_info": {
   "codemirror_mode": {
    "name": "ipython",
    "version": 3
   },
   "file_extension": ".py",
   "mimetype": "text/x-python",
   "name": "python",
   "nbconvert_exporter": "python",
   "pygments_lexer": "ipython3",
   "version": "3.6.4"
  }
 },
 "nbformat": 4,
 "nbformat_minor": 2
}
