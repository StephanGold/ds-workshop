{
 "cells": [
  {
   "cell_type": "code",
   "execution_count": 1,
   "metadata": {},
   "outputs": [
    {
     "name": "stderr",
     "output_type": "stream",
     "text": [
      "UsageError: Line magic function `%autoreload` not found.\n"
     ]
    }
   ],
   "source": [
    "%autoreload 0\n",
    "\n",
    "import os\n",
    "import gc\n",
    "import os.path\n",
    "import pandas as pd\n",
    "import numpy as np\n",
    "import datetime\n",
    "import matplotlib\n",
    "import pickle\n",
    "import json\n",
    "import googlemaps\n",
    "# Installing LightGBM on HighSierra: https://stackoverflow.com/questions/44937698/lightgbm-oserror-library-not-loaded\n",
    "import lightgbm as lgb\n",
    "import plotly\n",
    "import plotly.plotly as py\n",
    "from plotly.graph_objs import *\n",
    "import seaborn as sns\n",
    "from matplotlib import pyplot as plt\n",
    "import codecs\n",
    "import graphviz\n",
    "from multiprocessing import Pool, current_process\n",
    "import zipfile\n",
    "import datetime\n",
    "from catboost import CatBoostRegressor\n",
    "\n",
    "from sklearn.metrics import accuracy_score, log_loss, mean_squared_error, confusion_matrix\n",
    "from sklearn.model_selection import train_test_split, GridSearchCV\n",
    "from sklearn.preprocessing import OneHotEncoder, LabelEncoder, normalize\n",
    "from sklearn import preprocessing\n",
    "from sklearn.ensemble import RandomForestRegressor\n",
    "from sklearn.linear_model import LinearRegression\n",
    "from sklearn import model_selection, metrics\n",
    "from scipy.sparse import coo_matrix, hstack\n",
    "from sklearn import metrics\n",
    "\n",
    "# !pip install keras\n",
    "# !pip install tensorflow\n",
    "# !pip install tensorflow-gpu\n",
    "from keras.preprocessing.text import one_hot, Tokenizer, text_to_word_sequence\n",
    "from keras.preprocessing import sequence\n",
    "from keras.preprocessing.sequence import pad_sequences\n",
    "from keras.layers import LSTM, Input, Dense, concatenate, Embedding, Flatten, Reshape, SimpleRNN\n",
    "from keras.models import Model\n",
    "from keras.optimizers import Adam\n",
    "from keras.callbacks import ReduceLROnPlateau, ModelCheckpoint\n",
    "\n",
    "from compute_util import *\n",
    "from feature_enrichment import *\n",
    "\n",
    "%matplotlib inline\n",
    "matplotlib.rcParams['figure.figsize'] = (14.0, 10.0)\n",
    "\n",
    "DATA_PATH = None\n",
    "HELPER_DATA_PATH = None\n",
    "\n",
    "\n",
    "%autoreload 2"
   ]
  },
  {
   "cell_type": "code",
   "execution_count": null,
   "metadata": {},
   "outputs": [],
   "source": []
  }
 ],
 "metadata": {
  "kernelspec": {
   "display_name": "Python 3",
   "language": "python",
   "name": "python3"
  },
  "language_info": {
   "codemirror_mode": {
    "name": "ipython",
    "version": 3
   },
   "file_extension": ".py",
   "mimetype": "text/x-python",
   "name": "python",
   "nbconvert_exporter": "python",
   "pygments_lexer": "ipython3",
   "version": "3.6.4"
  }
 },
 "nbformat": 4,
 "nbformat_minor": 2
}
